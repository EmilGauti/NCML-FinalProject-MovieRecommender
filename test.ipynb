{
 "cells": [
  {
   "cell_type": "code",
   "execution_count": 3,
   "metadata": {},
   "outputs": [
    {
     "name": "stdout",
     "output_type": "stream",
     "text": [
      "Train FM MSE: 0.9339 Test FM MSE: 0.9525\n",
      "Train FM MSE: 0.8784 Test FM MSE: 0.9041\n",
      "Train FM MSE: 0.8426 Test FM MSE: 0.8749\n",
      "Train FM MSE: 0.8161 Test FM MSE: 0.8545\n",
      "Train FM MSE: 0.7950 Test FM MSE: 0.8394\n",
      "Train FM MSE: 0.7775 Test FM MSE: 0.8278\n",
      "Train FM MSE: 0.7623 Test FM MSE: 0.8185\n",
      "Train FM MSE: 0.7487 Test FM MSE: 0.8110\n",
      "Train FM MSE: 0.7364 Test FM MSE: 0.8046\n",
      "Train FM MSE: 0.7249 Test FM MSE: 0.7992\n",
      "Train FM MSE: 0.7142 Test FM MSE: 0.7946\n",
      "Train FM MSE: 0.7041 Test FM MSE: 0.7906\n",
      "Train FM MSE: 0.6945 Test FM MSE: 0.7872\n",
      "Train FM MSE: 0.6853 Test FM MSE: 0.7842\n",
      "Train FM MSE: 0.6764 Test FM MSE: 0.7816\n",
      "Train FM MSE: 0.6680 Test FM MSE: 0.7794\n",
      "Train FM MSE: 0.6598 Test FM MSE: 0.7775\n",
      "Train FM MSE: 0.6519 Test FM MSE: 0.7760\n",
      "Train FM MSE: 0.6442 Test FM MSE: 0.7747\n",
      "Train FM MSE: 0.6369 Test FM MSE: 0.7737\n",
      "Train FM MSE: 0.6297 Test FM MSE: 0.7730\n"
     ]
    }
   ],
   "source": [
    "import numpy as np\n",
    "from sklearn.feature_extraction import DictVectorizer\n",
    "from scipy import sparse\n",
    "from pyfm import pylibfm\n",
    "from sklearn.metrics import mean_squared_error\n",
    "from sklearn.model_selection import train_test_split\n",
    "\n",
    "\n",
    "def unison_shuffled_copies(a, b):\n",
    "    assert a.shape[0] == len(b)\n",
    "    p = np.random.permutation(a.shape[0])\n",
    "    return a[p], b[p]\n",
    "\n",
    "X = sparse.load_npz(\"ml_latest_small_formated_with_genres.npz\")\n",
    "filename=\"ml-latest-small/ratings.csv\"\n",
    "data=np.genfromtxt(filename,skip_header=1,delimiter=\",\")\n",
    "y = data[:,-2]\n",
    "X_train, X_test, y_train, y_test = train_test_split(X, y, test_size=0.33, random_state=42)\n",
    "#X_train,y_train = unison_shuffled_copies(X_train,y_train)\n",
    "#X_train_batch = X_train[:900,:]\n",
    "#y_train_batch = y_train[:900]\n",
    "#print(y_train_batch.shape)\n",
    "#print(X_train_batch.shape)\n",
    "#fm = pylibfm.FM(num_factors=10, num_iter=10, verbose=True, task=\"regression\", initial_learning_rate=0.001, learning_rate_schedule=\"optimal\")\n",
    "fm = pylibfm.FM(num_cols=np.max(X_train.indices) + 1, num_factor=8, task=\"regression\", learning_rate=0.001)\n",
    "\n",
    "for i in range(100):\n",
    "    fm.learn(X_train, y_train)\n",
    "    preds_train = fm.predict(X_train)\n",
    "    preds_test = fm.predict(X_test)\n",
    "    print(\"Train FM MSE: %.4f Test FM MSE: %.4f\" % (\n",
    "    mean_squared_error(y_train, preds_train), mean_squared_error(y_test, preds_test)))\n",
    "    # print(\"Train FM MSE: %.4f Test FM MSE: %.4f\" % (fm.evaluate(X_train, y_train), fm.evaluate(X_test, y_test)))"
   ]
  }
 ],
 "metadata": {
  "interpreter": {
   "hash": "cc9146e8c65fd4b2f8e23fb981b3300af42b20615e04bdabe45c307201239cc5"
  },
  "kernelspec": {
   "display_name": "Python 3.8.13 ('base')",
   "language": "python",
   "name": "python3"
  },
  "language_info": {
   "codemirror_mode": {
    "name": "ipython",
    "version": 3
   },
   "file_extension": ".py",
   "mimetype": "text/x-python",
   "name": "python",
   "nbconvert_exporter": "python",
   "pygments_lexer": "ipython3",
   "version": "3.8.13"
  },
  "orig_nbformat": 4
 },
 "nbformat": 4,
 "nbformat_minor": 2
}
