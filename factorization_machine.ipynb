{
 "cells": [
  {
   "cell_type": "code",
   "execution_count": 2,
   "metadata": {},
   "outputs": [
    {
     "name": "stdout",
     "output_type": "stream",
     "text": [
      "Training size: 60501, Validation size: 20167, Test size: 20168\n",
      "Train FM MSE: 0.9423 Validation FM MSE: 0.9644\n",
      "Train FM MSE: 0.8880 Validation FM MSE: 0.9183\n",
      "Train FM MSE: 0.8536 Validation FM MSE: 0.8908\n",
      "Train FM MSE: 0.8280 Validation FM MSE: 0.8715\n"
     ]
    }
   ],
   "source": [
    "import numpy as np\n",
    "from scipy import sparse\n",
    "from pyfm import pylibfm\n",
    "from sklearn.metrics import mean_squared_error\n",
    "from sklearn.model_selection import train_test_split\n",
    "\n",
    "X_filename = \"ml_latest_small_formated_with_genres.npz\"\n",
    "#X_filename = \"ml_latest_small_formated.npz\"\n",
    "X = sparse.load_npz(X_filename)\n",
    "filename=\"ml-latest-small/ratings.csv\"\n",
    "data=np.genfromtxt(filename,skip_header=1,delimiter=\",\")\n",
    "y = data[:,-2]\n",
    "#X_train, X_test, y_train, y_test = train_test_split(X, y, test_size=0.33, random_state=42)\n",
    "X_train, X_test, y_train, y_test = train_test_split(X, y, test_size=0.2, random_state=1)\n",
    "X_train, X_val, y_train, y_val = train_test_split(X_train, y_train, test_size=0.25, random_state=1)\n",
    "print(\"Training size: %d, Validation size: %d, Test size: %d\" % (X_train.shape[0],X_val.shape[0],X_test.shape[0]))\n",
    "\n",
    "\n",
    "\n",
    "num_factor=8\n",
    "learning_rate=0.001\n",
    "nr_epochs=100\n",
    "\n",
    "fm = pylibfm.FM(num_cols=np.max(X_train.indices) + 1, num_factor=num_factor, task=\"regression\", learning_rate=learning_rate)\n",
    "train_error=[]\n",
    "val_error=[]\n",
    "for i in range(nr_epochs):\n",
    "    fm.learn(X_train, y_train)\n",
    "    preds_train = fm.predict(X_train)\n",
    "    preds_test = fm.predict(X_test)\n",
    "    train_error_tmp = mean_squared_error(y_train, preds_train)\n",
    "    val_error_tmp = mean_squared_error(y_test, preds_test)\n",
    "    train_error.append(train_error_tmp)\n",
    "    val_error.append(val_error_tmp)\n",
    "    print(\"Train FM MSE: %.4f Validation FM MSE: %.4f\" % (train_error_tmp, val_error_tmp))"
   ]
  },
  {
   "cell_type": "code",
   "execution_count": null,
   "metadata": {},
   "outputs": [],
   "source": [
    "import matplotlib.pyplot as plt\n",
    "from matplotlib.ticker import MaxNLocator\n",
    "fig_filename=plt.savefig(\"train_val_error_NF\"+str(num_factor)+\"_LR\"+str(learning_rate)+\"_E\"+str(nr_epochs))\n",
    "ax = plt.figure().gca()\n",
    "ax.xaxis.set_major_locator(MaxNLocator(integer=True))\n",
    "plt.plot(train_error,label=\"Train\")\n",
    "plt.plot(val_error,label=\"Validation\")\n",
    "plt.xlabel(\"Epoch\")\n",
    "plt.ylabel(\"Error (MSE)\")\n",
    "plt.legend()\n",
    "if \"genres\" in X_filename:\n",
    "    plt.savefig(fig_filename+\"genres.pdf\")\n",
    "else:\n",
    "    plt.savefig(fig_filename+\".pdf\")\n",
    "plt.show()"
   ]
  }
 ],
 "metadata": {
  "interpreter": {
   "hash": "cc9146e8c65fd4b2f8e23fb981b3300af42b20615e04bdabe45c307201239cc5"
  },
  "kernelspec": {
   "display_name": "Python 3.8.13 ('base')",
   "language": "python",
   "name": "python3"
  },
  "language_info": {
   "codemirror_mode": {
    "name": "ipython",
    "version": 3
   },
   "file_extension": ".py",
   "mimetype": "text/x-python",
   "name": "python",
   "nbconvert_exporter": "python",
   "pygments_lexer": "ipython3",
   "version": "3.8.13"
  },
  "orig_nbformat": 4
 },
 "nbformat": 4,
 "nbformat_minor": 2
}
