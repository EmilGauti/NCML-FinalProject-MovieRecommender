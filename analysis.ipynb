{
 "cells": [
  {
   "cell_type": "code",
   "execution_count": 37,
   "metadata": {},
   "outputs": [
    {
     "data": {
      "image/png": "[encoded data removed]",
      "text/plain": [
       "<Figure size 432x288 with 1 Axes>"
      ]
     },
     "metadata": {
      "needs_background": "light"
     },
     "output_type": "display_data"
    }
   ],
   "source": [
    "import numpy as np\n",
    "import matplotlib.pyplot as plt\n",
    "from matplotlib.ticker import PercentFormatter\n",
    "def bins_labels(bins, **kwargs):\n",
    "    bin_w = (max(bins) - min(bins)) / (len(bins) - 1)\n",
    "    plt.xticks(np.arange(min(bins)+bin_w/2, max(bins), bin_w), bins, **kwargs)\n",
    "    plt.xlim(bins[0], bins[-1])\n",
    "\n",
    "filename=\"ml-latest-small/ratings.csv\"\n",
    "data=np.genfromtxt(filename,skip_header=1,delimiter=\",\")\n",
    "ratings = data[:,-2]\n",
    "u, inv = np.unique(ratings, return_inverse=True)\n",
    "counts = np.bincount(inv)\n",
    "\n",
    "fig, ax = plt.subplots()\n",
    "plt.bar(u, counts/len(ratings), width=0.5,edgecolor='black')\n",
    "\n",
    "#n, bins, patches=plt.hist(ratings,weights=np.ones(len(ratings)) / len(ratings),edgecolor='black', linewidth=1.2,align=\"left\")\n",
    "#plt.bar(ratings)\n",
    "#ticklabels=(\"0.5\",\"1\",\"1.5\",\"2\",\"2.5\",\"3\",\"3.5\",\"4\",\"4.5\",\"5\")\n",
    "#tick_pos=[0.5,1,1.5,2,2.5,3,3.5,4,4.5,5]\n",
    "#ax.set_xticks(tick_pos)\n",
    "#ax.set_xticklabels( ticklabels )\n",
    "plt.gca().yaxis.set_major_formatter(PercentFormatter(1))\n",
    "plt.xlabel(\"Rating\")\n",
    "plt.ylabel(\"Percentage of Occurrences\")\n",
    "plt.grid(axis=\"y\")\n",
    "plt.savefig(\"ratings_distribution.pdf\")\n",
    "plt.show()\n"
   ]
  }
 ],
 "metadata": {
  "interpreter": {
   "hash": "b145209563981d8a96e430a751b72b2a4c1e51ac83c439f2f65831069d511819"
  },
  "kernelspec": {
   "display_name": "Python 3.9.7",
   "language": "python",
   "name": "python3"
  },
  "language_info": {
   "name": "python",
   "version": "3.9.7"
  },
  "orig_nbformat": 4
 },
 "nbformat": 4,
 "nbformat_minor": 2
}
