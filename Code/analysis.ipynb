{
 "cells": [
  {
   "cell_type": "code",
   "execution_count": null,
   "metadata": {},
   "outputs": [],
   "source": [
    "import numpy as np\n",
    "import matplotlib.pyplot as plt\n",
    "from matplotlib.ticker import PercentFormatter\n",
    "def bins_labels(bins, **kwargs):\n",
    "    bin_w = (max(bins) - min(bins)) / (len(bins) - 1)\n",
    "    plt.xticks(np.arange(min(bins)+bin_w/2, max(bins), bin_w), bins, **kwargs)\n",
    "    plt.xlim(bins[0], bins[-1])\n",
    "\n",
    "filename=\"ml-latest-small/ratings.csv\"\n",
    "data=np.genfromtxt(filename,skip_header=1,delimiter=\",\")\n",
    "ratings = data[:,-2]\n",
    "u, inv = np.unique(ratings, return_inverse=True)\n",
    "counts = np.bincount(inv)\n",
    "\n",
    "fig, ax = plt.subplots()\n",
    "plt.bar(u, counts/len(ratings), width=0.5,edgecolor='black')\n",
    "\n",
    "plt.gca().yaxis.set_major_formatter(PercentFormatter(1))\n",
    "plt.xlabel(\"Rating\")\n",
    "plt.ylabel(\"Percentage of Occurrences\")\n",
    "plt.grid(axis=\"y\")\n",
    "plt.savefig(\"ratings_distribution.pdf\")\n",
    "plt.show()\n"
   ]
  }
 ],
 "metadata": {
  "interpreter": {
   "hash": "b145209563981d8a96e430a751b72b2a4c1e51ac83c439f2f65831069d511819"
  },
  "kernelspec": {
   "display_name": "Python 3.9.7",
   "language": "python",
   "name": "python3"
  },
  "language_info": {
   "name": "python",
   "version": "3.9.7"
  },
  "orig_nbformat": 4
 },
 "nbformat": 4,
 "nbformat_minor": 2
}
