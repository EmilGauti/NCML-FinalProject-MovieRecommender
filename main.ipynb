{
 "cells": [
  {
   "cell_type": "code",
   "execution_count": 2,
   "metadata": {},
   "outputs": [],
   "source": [
    "import numpy as np"
   ]
  },
  {
   "cell_type": "code",
   "execution_count": 2,
   "metadata": {},
   "outputs": [],
   "source": [
    "def movie_dict(arr):\n",
    "    unique, counts = np.unique(arr, return_counts=True)\n",
    "    k=len(counts)\n",
    "    L=len(arr)\n",
    "    movie_id_dict = {}\n",
    "\n",
    "    for movie_id in arr:\n",
    "        movie_id_dict[str(movie_id)] = -1\n",
    "    for i,key in enumerate(movie_id_dict.keys()):\n",
    "        movie_id_dict[key] = i\n",
    "    return movie_id_dict\n",
    "def get_movies_for_user(user,data,movie_mapping):\n",
    "    data = data[data[:,0]==user]\n",
    "    movies_user_seen=[]\n",
    "    for movie in data[:,1]:\n",
    "        movies_user_seen.append(movie_mapping[str(movie)])\n",
    "    return movies_user_seen\n",
    "\n",
    "\n",
    "def one_hot_encoding(data):\n",
    "    #data = data.astype(int)\n",
    "    L = data.shape[0]\n",
    "    N = int(np.max(data[:,0]))\n",
    "    unique, counts = np.unique(data[:,1], return_counts=True)\n",
    "    k=len(counts)\n",
    "    matrix_encoding_user = np.zeros((L,N))\n",
    "    matrix_encoding_movie = np.zeros((L,k))\n",
    "    matrix_encoding_other_movies_rated = np.zeros((L,k))\n",
    "    matrix_encoding_last_movie_rated = np.zeros((L,k))\n",
    "    movie_mapping = movie_dict(data[:,1])\n",
    "    matrix_encoding_time = np.array(data[:,3])\n",
    "    max_time=np.max(matrix_encoding_time)\n",
    "    min_time=np.min(matrix_encoding_time)\n",
    "    matrix_encoding_time = ((matrix_encoding_time-min_time)/max_time)\n",
    "\n",
    "    for i,user in enumerate(data[:,0]):\n",
    "        matrix_encoding_user[i,int(user)-1] = 1\n",
    "    for i,movie in enumerate(data[:,1]):\n",
    "        matrix_encoding_movie[i,movie_mapping[str(movie)]] = 1\n",
    "    old_user=-1\n",
    "    for i,user in enumerate(data[:,0]):\n",
    "        if old_user!=user:\n",
    "            user_movies = get_movies_for_user(user,data,movie_mapping)\n",
    "        matrix_encoding_other_movies_rated[i,user_movies] = 1/len(user_movies)\n",
    "    old_user=-1\n",
    "    for i,user in enumerate(data[:,0]):\n",
    "        if old_user==user:\n",
    "            matrix_encoding_last_movie_rated[i,:] = matrix_encoding_movie[i-1,:]\n",
    "        old_user=user\n",
    "    \n",
    "    \n",
    "    full_matrix = np.concatenate((matrix_encoding_user,matrix_encoding_movie,matrix_encoding_other_movies_rated,matrix_encoding_time[:, None],matrix_encoding_last_movie_rated),axis=1)\n",
    "\n",
    "    \"\"\" \n",
    "    def feed_forward(data,bias,bias_vector,v_matrix):\n",
    "        N = int(np.max(data[:,0]))\n",
    "        output = np.zeros(N)\n",
    "        for i in range(0,N):\n",
    "            comb_sum = 0\n",
    "            first_part = bias + np.dot(bias_vector[i],data[i])\n",
    "            for j in range(1,N):\n",
    "                factor = np.dot(v_matrix[i],v_matrix[j])\n",
    "                comb_sum += factor * data[i][j-1] * data[i][j] \n",
    "            output[i] =  first_part + comb_sum\n",
    "        return output\n",
    "    \n",
    "    full_matrix = np.concatenate((matrix_encoding_user,matrix_encoding_movie),axis=1)\n",
    "    print(full_matrix.shape)\n",
    "    full_matrix = np.concatenate((full_matrix,matrix_encoding_other_movies_rated),axis=1)\n",
    "    print(full_matrix.shape)\n",
    "    print(matrix_encoding_time.shape)\n",
    "    full_matrix = np.concatenate((full_matrix,matrix_encoding_time[:, None]),axis=1)\n",
    "    print(full_matrix.shape)\n",
    "    full_matrix = np.concatenate((full_matrix,matrix_encoding_last_movie_rated),axis=1)\n",
    "    \"\"\"\n",
    "    return full_matrix\n",
    "\n"
   ]
  },
  {
   "cell_type": "code",
   "execution_count": 3,
   "metadata": {},
   "outputs": [],
   "source": [
    "from scipy import sparse\n",
    "filename=\"ml-latest-small/ratings.csv\"\n",
    "data=np.genfromtxt(filename,skip_header=1,delimiter=\",\")\n",
    "unique, counts = np.unique(data[:,1], return_counts=True)\n",
    "full_matrix_test = one_hot_encoding(data)\n",
    "full_matrix_sparse = sparse.csr_matrix(full_matrix_test,dtype=float)\n",
    "\n"
   ]
  },
  {
   "cell_type": "code",
   "execution_count": 18,
   "metadata": {},
   "outputs": [
    {
     "name": "stdout",
     "output_type": "stream",
     "text": [
      "Nr. exluding 34\n"
     ]
    }
   ],
   "source": [
    "#Need to fix\n",
    "genres_filename=\"ml-latest-small/movies.csv\"\n",
    "f = open(genres_filename, \"r\")\n",
    "f.readline()\n",
    "nrMovies=x = len(f.readlines())\n",
    "f = open(genres_filename, \"r\")\n",
    "f.readline()\n",
    "genre_dict={\"unknown\":0,\"Action\":1,\"Adventure\":2,\"Animation\":3,\"Children\":4,\"Comedy\":5,\n",
    "\"Crime\":6,\"Documentary\":7,\"Drama\":8,\"Fantasy\":9,\"Film-Noir\":10,\"Horror\":11,\"Musical\":12,\n",
    "\"Mystery\":13,\"Romance\":14,\"Sci-Fi\":15,\"Thriller\":16,\"War\":17,\"Western\":18,\"IMAX\":19}\n",
    "movie_genre_dict={}\n",
    "nrexcluded=0\n",
    "genre_matrix=np.zeros((nrMovies,len(genre_dict)))\n",
    "for line in f.readlines():\n",
    "    movie_ind = line.split(\",\")[0]\n",
    "    genres_string = line.split(\",\")[-1]\n",
    "    genres_string=genres_string[:-1]\n",
    "    movie_encoded=np.zeros((1,len(genre_dict)))\n",
    "    for genre in genres_string.split(\"|\"):\n",
    "        try:\n",
    "            movie_encoded[0,genre_dict[genre]] = 1\n",
    "            movie_genre_dict[movie_ind]=movie_encoded\n",
    "        except:\n",
    "            nrexcluded=nrexcluded+1\n",
    "print(\"Nr. exluding\",nrexcluded)"
   ]
  },
  {
   "cell_type": "code",
   "execution_count": 4,
   "metadata": {},
   "outputs": [],
   "source": [
    "full_matrix_test.shape\n",
    "sparse.save_npz('ml_latest_small_formated.npz', full_matrix_sparse)\n",
    "#print(len(counts))"
   ]
  }
 ],
 "metadata": {
  "interpreter": {
   "hash": "d59571596f882a307d598474a3566a4baf767754dc54be996ecdba4c1d043c29"
  },
  "kernelspec": {
   "display_name": "Python 3.9.12 ('pytorch_m1')",
   "language": "python",
   "name": "python3"
  },
  "language_info": {
   "codemirror_mode": {
    "name": "ipython",
    "version": 3
   },
   "file_extension": ".py",
   "mimetype": "text/x-python",
   "name": "python",
   "nbconvert_exporter": "python",
   "pygments_lexer": "ipython3",
   "version": "3.9.12"
  },
  "orig_nbformat": 4
 },
 "nbformat": 4,
 "nbformat_minor": 2
}
