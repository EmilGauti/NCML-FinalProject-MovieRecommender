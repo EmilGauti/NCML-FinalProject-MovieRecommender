{
 "cells": [
  {
   "cell_type": "code",
   "execution_count": 13,
   "source": [
    "import tensorflow as tf"
   ],
   "outputs": [],
   "metadata": {}
  },
  {
   "cell_type": "code",
   "execution_count": 2,
   "source": [
    "from load_data import get_data\n",
    "movielens,users,movies,ratings = get_data()\n"
   ],
   "outputs": [
    {
     "output_type": "stream",
     "name": "stdout",
     "text": [
      "Downloading movielens data...\n",
      "Done. Dataset contains:\n",
      "b'943 users\\n1682 items\\n100000 ratings\\n'\n"
     ]
    }
   ],
   "metadata": {}
  },
  {
   "cell_type": "code",
   "execution_count": 40,
   "source": [
    "def to_sparse_tensor(ratings):\n",
    "      indices = ratings[['user_id', 'movie_id']].values\n",
    "      values = ratings['rating'].values\n",
    "      sparse_ratings = tf.SparseTensor(\n",
    "            indices=indices,\n",
    "            values=values,\n",
    "            dense_shape=[users.shape[0], movies.shape[0]])\n",
    "      return sparse_ratings\n",
    "sparse_ratings = to_sparse_tensor(ratings)"
   ],
   "outputs": [],
   "metadata": {}
  },
  {
   "cell_type": "code",
   "execution_count": 34,
   "source": [
    "\"\"\"\n",
    "Loss function(MSE)\n",
    "Calculates the mean squared error between the dense predicted matrix users_factors * movies_factors and target\n",
    "\n",
    "users_factors:  (NXk) matrix with value at [i,j] representing user nr i and factor j\n",
    "movies_factors: (kXM) matrix with value at [i,j] representing movie nr i and factor j\n",
    "target: Sparse: (NXM) matrix extracted from the data, values of this matrix are the existing ratings by users for each movie\n",
    "N:              Number of Users\n",
    "M:              Number of movies\n",
    "k:              Number of factors(given by model)\n",
    "\"\"\"\n",
    "def loss(users_factors,movies_factors,target):\n",
    "    prediction_matrix = tf.matmul(users_factors,movies_factors)\n",
    "    loss = tf.losses.mean_squared_error(target,prediction_matrix)\n",
    "    return loss\n"
   ],
   "outputs": [],
   "metadata": {}
  },
  {
   "cell_type": "code",
   "execution_count": 39,
   "source": [
    "\"\"\"\n",
    "Define training model\n",
    "\n",
    "\"\"\"\n",
    "from sklearn.model_selection import train_test_split\n",
    "def CFmodel(ratings):\n",
    "    train_ratings, test_ratings = train_test_split(ratings)\n",
    "    \n",
    "    return train_ratings, test_ratings\n",
    "t,_ = CFmodel(ratings)\n"
   ],
   "outputs": [
    {
     "output_type": "stream",
     "name": "stdout",
     "text": [
      "      user_id movie_id  rating  unix_timestamp\n",
      "82574     869      424   4.000       889717575\n",
      "27772     278      977   1.000       889231898\n",
      "60855     795      218   4.000       893218453\n",
      "2380      325       21   4.000       879874989\n",
      "17908     444      627   1.000       891200137\n",
      "...       ...      ...     ...             ...\n",
      "35538     115       46   3.000       876454238\n",
      "74890     534      470   4.000       879618743\n",
      "28928     150      560   3.000       879543342\n",
      "9277      339      417   5.000       884990669\n",
      "96813     832       25   1.000       875133661\n",
      "\n",
      "[25000 rows x 4 columns]\n"
     ]
    }
   ],
   "metadata": {}
  }
 ],
 "metadata": {
  "orig_nbformat": 4,
  "language_info": {
   "name": "python",
   "version": "3.9.7",
   "mimetype": "text/x-python",
   "codemirror_mode": {
    "name": "ipython",
    "version": 3
   },
   "pygments_lexer": "ipython3",
   "nbconvert_exporter": "python",
   "file_extension": ".py"
  },
  "kernelspec": {
   "name": "python3",
   "display_name": "Python 3.9.7 64-bit (conda)"
  },
  "interpreter": {
   "hash": "f11e31d7bdf72745398a3b376d931d1ebadd63d07d363dd828ff5612d0568907"
  }
 },
 "nbformat": 4,
 "nbformat_minor": 2
}