{
 "cells": [
  {
   "cell_type": "code",
   "execution_count": 1,
   "metadata": {},
   "outputs": [],
   "source": [
    "import numpy as np"
   ]
  },
  {
   "cell_type": "code",
   "execution_count": 2,
   "metadata": {},
   "outputs": [],
   "source": [
    "def movie_dict(arr):\n",
    "    unique, counts = np.unique(arr, return_counts=True)\n",
    "    k=len(counts)\n",
    "    L=len(arr)\n",
    "    movie_id_dict = {}\n",
    "\n",
    "    for movie_id in arr:\n",
    "        movie_id_dict[str(movie_id)] = -1\n",
    "    for i,key in enumerate(movie_id_dict.keys()):\n",
    "        movie_id_dict[key] = i\n",
    "    return movie_id_dict\n",
    "def get_movies_for_user(user,data,movie_mapping):\n",
    "    data = data[data[:,0]==user]\n",
    "    movies_user_seen=[]\n",
    "    for movie in data[:,1]:\n",
    "        movies_user_seen.append(movie_mapping[str(movie)])\n",
    "    return movies_user_seen\n",
    "\n",
    "\n",
    "def one_hot_encoding(data):\n",
    "    #data = data.astype(int)\n",
    "    L = data.shape[0]\n",
    "    N = int(np.max(data[:,0]))\n",
    "    unique, counts = np.unique(data[:,1], return_counts=True)\n",
    "    k=len(counts)\n",
    "    matrix_encoding_user = np.zeros((L,N))\n",
    "    matrix_encoding_movie = np.zeros((L,k))\n",
    "    matrix_encoding_other_movies_rated = np.zeros((L,k))\n",
    "    matrix_encoding_last_movie_rated = np.zeros((L,k))\n",
    "    movie_mapping = movie_dict(data[:,1])\n",
    "    matrix_encoding_time = np.array(data[:,2])\n",
    "\n",
    "    for i,user in enumerate(data[:,0]):\n",
    "        matrix_encoding_user[i,int(user)-1] = 1\n",
    "    for i,movie in enumerate(data[:,1]):\n",
    "        matrix_encoding_movie[i,movie_mapping[str(movie)]] = 1\n",
    "    old_user=-1\n",
    "    for i,user in enumerate(data[:,0]):\n",
    "        if old_user!=user:\n",
    "            user_movies = get_movies_for_user(user,data,movie_mapping)\n",
    "        matrix_encoding_other_movies_rated[i,user_movies] = 1/len(user_movies)\n",
    "    old_user=-1\n",
    "    for i,user in enumerate(data[:,0]):\n",
    "        if old_user==user:\n",
    "            matrix_encoding_last_movie_rated[i,:] = matrix_encoding_movie[i-1,:]\n",
    "        old_user=user\n",
    "    \n",
    "    \n",
    "    full_matrix = np.concatenate((matrix_encoding_user,matrix_encoding_movie,matrix_encoding_other_movies_rated,matrix_encoding_time[:, None],matrix_encoding_last_movie_rated),axis=1)\n",
    "\n",
    "\n",
    "    \"\"\"\n",
    "    full_matrix = np.concatenate((matrix_encoding_user,matrix_encoding_movie),axis=1)\n",
    "    print(full_matrix.shape)\n",
    "    full_matrix = np.concatenate((full_matrix,matrix_encoding_other_movies_rated),axis=1)\n",
    "    print(full_matrix.shape)\n",
    "    print(matrix_encoding_time.shape)\n",
    "    full_matrix = np.concatenate((full_matrix,matrix_encoding_time[:, None]),axis=1)\n",
    "    print(full_matrix.shape)\n",
    "    full_matrix = np.concatenate((full_matrix,matrix_encoding_last_movie_rated),axis=1)\n",
    "    \"\"\"\n",
    "    return full_matrix\n",
    "\n"
   ]
  },
  {
   "cell_type": "code",
   "execution_count": 3,
   "metadata": {},
   "outputs": [],
   "source": [
    "filename=\"ml-latest-small/ratings.csv\"\n",
    "data=np.genfromtxt(filename,skip_header=1,delimiter=\",\")\n",
    "unique, counts = np.unique(data[:,1], return_counts=True)\n",
    "full_matrix_test = one_hot_encoding(data)\n",
    "\n"
   ]
  },
  {
   "cell_type": "code",
   "execution_count": 6,
   "metadata": {},
   "outputs": [
    {
     "data": {
      "text/plain": [
       "(100836, 29783)"
      ]
     },
     "execution_count": 6,
     "metadata": {},
     "output_type": "execute_result"
    }
   ],
   "source": [
    "full_matrix_test.shape\n",
    "#print(len(counts))"
   ]
  }
 ],
 "metadata": {
  "interpreter": {
   "hash": "b145209563981d8a96e430a751b72b2a4c1e51ac83c439f2f65831069d511819"
  },
  "kernelspec": {
   "display_name": "Python 3.9.7 64-bit (conda)",
   "language": "python",
   "name": "python3"
  },
  "language_info": {
   "codemirror_mode": {
    "name": "ipython",
    "version": 3
   },
   "file_extension": ".py",
   "mimetype": "text/x-python",
   "name": "python",
   "nbconvert_exporter": "python",
   "pygments_lexer": "ipython3",
   "version": "3.9.7"
  },
  "orig_nbformat": 4
 },
 "nbformat": 4,
 "nbformat_minor": 2
}
